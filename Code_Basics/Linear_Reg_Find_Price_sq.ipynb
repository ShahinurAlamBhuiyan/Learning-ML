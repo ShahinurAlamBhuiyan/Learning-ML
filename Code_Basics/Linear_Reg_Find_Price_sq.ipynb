{
 "cells": [
  {
   "cell_type": "code",
   "execution_count": 4,
   "id": "68c555b5-8b02-4a0d-83a6-66a4de3271b5",
   "metadata": {},
   "outputs": [
    {
     "name": "stdout",
     "output_type": "stream",
     "text": [
      "Hello Machine Learning world\n"
     ]
    }
   ],
   "source": [
    "print(\"Hello Machine Learning world\")"
   ]
  },
  {
   "cell_type": "code",
   "execution_count": null,
   "id": "3c8e7c22-bc21-4220-ad38-f41b469b7138",
   "metadata": {},
   "outputs": [],
   "source": []
  }
 ],
 "metadata": {
  "kernelspec": {
   "display_name": "Python 3 (ipykernel)",
   "language": "python",
   "name": "python3"
  },
  "language_info": {
   "codemirror_mode": {
    "name": "ipython",
    "version": 3
   },
   "file_extension": ".py",
   "mimetype": "text/x-python",
   "name": "python",
   "nbconvert_exporter": "python",
   "pygments_lexer": "ipython3",
   "version": "3.10.12"
  }
 },
 "nbformat": 4,
 "nbformat_minor": 5
}
