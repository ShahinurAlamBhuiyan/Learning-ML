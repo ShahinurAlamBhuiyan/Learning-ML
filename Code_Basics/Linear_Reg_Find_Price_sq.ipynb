{
 "cells": [
  {
   "cell_type": "code",
   "execution_count": 8,
   "id": "68c555b5-8b02-4a0d-83a6-66a4de3271b5",
   "metadata": {},
   "outputs": [
    {
     "name": "stdout",
     "output_type": "stream",
     "text": [
      "Requirement already satisfied: numpy in /Users/shahinuralambhuiyan/.pyenv/versions/3.10.12/lib/python3.10/site-packages (2.1.1)\n",
      "\n",
      "\u001b[1m[\u001b[0m\u001b[34;49mnotice\u001b[0m\u001b[1;39;49m]\u001b[0m\u001b[39;49m A new release of pip is available: \u001b[0m\u001b[31;49m23.0.1\u001b[0m\u001b[39;49m -> \u001b[0m\u001b[32;49m24.2\u001b[0m\n",
      "\u001b[1m[\u001b[0m\u001b[34;49mnotice\u001b[0m\u001b[1;39;49m]\u001b[0m\u001b[39;49m To update, run: \u001b[0m\u001b[32;49mpip install --upgrade pip\u001b[0m\n"
     ]
    }
   ],
   "source": [
    "!pip install numpy\n"
   ]
  },
  {
   "cell_type": "code",
   "execution_count": 9,
   "id": "3c8e7c22-bc21-4220-ad38-f41b469b7138",
   "metadata": {},
   "outputs": [
    {
     "name": "stdout",
     "output_type": "stream",
     "text": [
      "Requirement already satisfied: pandas in /Users/shahinuralambhuiyan/.pyenv/versions/3.10.12/lib/python3.10/site-packages (2.2.2)\n",
      "Requirement already satisfied: numpy>=1.22.4 in /Users/shahinuralambhuiyan/.pyenv/versions/3.10.12/lib/python3.10/site-packages (from pandas) (2.1.1)\n",
      "Requirement already satisfied: tzdata>=2022.7 in /Users/shahinuralambhuiyan/.pyenv/versions/3.10.12/lib/python3.10/site-packages (from pandas) (2024.1)\n",
      "Requirement already satisfied: python-dateutil>=2.8.2 in /Users/shahinuralambhuiyan/.pyenv/versions/3.10.12/lib/python3.10/site-packages (from pandas) (2.9.0.post0)\n",
      "Requirement already satisfied: pytz>=2020.1 in /Users/shahinuralambhuiyan/.pyenv/versions/3.10.12/lib/python3.10/site-packages (from pandas) (2024.1)\n",
      "Requirement already satisfied: six>=1.5 in /Users/shahinuralambhuiyan/.pyenv/versions/3.10.12/lib/python3.10/site-packages (from python-dateutil>=2.8.2->pandas) (1.16.0)\n",
      "\n",
      "\u001b[1m[\u001b[0m\u001b[34;49mnotice\u001b[0m\u001b[1;39;49m]\u001b[0m\u001b[39;49m A new release of pip is available: \u001b[0m\u001b[31;49m23.0.1\u001b[0m\u001b[39;49m -> \u001b[0m\u001b[32;49m24.2\u001b[0m\n",
      "\u001b[1m[\u001b[0m\u001b[34;49mnotice\u001b[0m\u001b[1;39;49m]\u001b[0m\u001b[39;49m To update, run: \u001b[0m\u001b[32;49mpip install --upgrade pip\u001b[0m\n"
     ]
    }
   ],
   "source": [
    "!pip install pandas"
   ]
  },
  {
   "cell_type": "code",
   "execution_count": 12,
   "id": "5d7f78a0-59e1-43a0-9c84-b4007267f2a5",
   "metadata": {},
   "outputs": [],
   "source": [
    " import pandas as pd"
   ]
  },
  {
   "cell_type": "code",
   "execution_count": 20,
   "id": "4a246fda-75e4-44ef-ba8b-5fe7f73c611f",
   "metadata": {},
   "outputs": [
    {
     "name": "stdout",
     "output_type": "stream",
     "text": [
      "Student Records\n",
      "\n",
      "   student  rank  marks\n",
      "0    amit     1     95\n",
      "1  shahin     2     70\n",
      "2    john     3     80\n",
      "3   jacob     4     60\n",
      "4   steve     5     90\n"
     ]
    }
   ],
   "source": [
    "# dataset\n",
    "data = {\n",
    "    'student': ['amit', 'shahin', 'john', 'jacob', 'steve'],\n",
    "    'rank': [1, 2, 3, 4, 5],\n",
    "    'marks': [95, 70, 80, 60, 90]\n",
    "}\n",
    "res = pd.DataFrame(data)\n",
    "print(\"Student Records\\n\\n\", res)"
   ]
  },
  {
   "cell_type": "code",
   "execution_count": null,
   "id": "d4dcf003-ab3e-420d-857b-91f8aaa6efba",
   "metadata": {},
   "outputs": [],
   "source": []
  }
 ],
 "metadata": {
  "kernelspec": {
   "display_name": "Python 3 (ipykernel)",
   "language": "python",
   "name": "python3"
  },
  "language_info": {
   "codemirror_mode": {
    "name": "ipython",
    "version": 3
   },
   "file_extension": ".py",
   "mimetype": "text/x-python",
   "name": "python",
   "nbconvert_exporter": "python",
   "pygments_lexer": "ipython3",
   "version": "3.10.12"
  }
 },
 "nbformat": 4,
 "nbformat_minor": 5
}
