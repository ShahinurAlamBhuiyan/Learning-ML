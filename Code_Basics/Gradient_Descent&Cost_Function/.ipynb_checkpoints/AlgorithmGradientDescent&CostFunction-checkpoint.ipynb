{
 "cells": [
  {
   "cell_type": "code",
   "execution_count": 2,
   "id": "7576b55a-b551-46a1-8b24-38bc9243f33a",
   "metadata": {},
   "outputs": [],
   "source": [
    "import numpy as np"
   ]
  },
  {
   "cell_type": "code",
   "execution_count": 25,
   "id": "be585b7b-0b67-49f5-97e7-30a0b0b8eb55",
   "metadata": {},
   "outputs": [],
   "source": [
    "def gradient_descent(x, y):\n",
    "    m_curr = b_curr = 0\n",
    "    iterations = 10\n",
    "    n = len(x)\n",
    "    learning_rate = 0.01\n",
    "    \n",
    "    for i in range(iterations):\n",
    "        y_predicted = m_curr * x + b_curr\n",
    "        cost = (1/n) * sum([val**2 for val in (y - y_predicted)])\n",
    "        md = -(2/n) * sum(x * (y - y_predicted))\n",
    "        bd = -(2/n) * sum(y - y_predicted)\n",
    "        m_curr = m_curr - learning_rate * md\n",
    "        b_curr = b_curr - learning_rate * bd\n",
    "        print(\"m {}, b {}, cost {}, iterations {}\".format(m_curr, b_curr, cost, i))\n",
    "    "
   ]
  },
  {
   "cell_type": "code",
   "execution_count": 11,
   "id": "7ca1b298-4447-48cc-b9c0-de61413fe48c",
   "metadata": {},
   "outputs": [],
   "source": [
    "x = np.array([1, 2, 3, 4, 5])\n",
    "y = np.array([5, 7, 9, 11, 13])"
   ]
  },
  {
   "cell_type": "code",
   "execution_count": 26,
   "id": "efaa2125-e3d2-491f-8399-6aa7a2ad23ae",
   "metadata": {},
   "outputs": [
    {
     "name": "stdout",
     "output_type": "stream",
     "text": [
      "m 6.2, b 1.8, cost 89.0, iterations 0\n",
      "m -2.320000000000001, b -0.4800000000000002, cost 165.24, iterations 1\n",
      "m 9.272000000000002, b 2.8080000000000007, cost 307.59840000000014, iterations 2\n",
      "m -6.611200000000007, b -1.5168000000000017, cost 573.3613440000004, iterations 3\n",
      "m 15.043520000000012, b 4.5532800000000035, cost 1069.4523110400019, iterations 4\n",
      "m -14.584192000000016, b -3.5834880000000053, cost 1995.4416651264037, iterations 5\n",
      "m 25.851123200000032, b 7.6837248000000065, cost 3723.822955597831, iterations 6\n",
      "m -29.431582720000037, b -7.563694080000013, cost 6949.846718357686, iterations 7\n",
      "m 46.056115712000064, b 13.407994368000011, cost 12971.181693567853, iterations 8\n",
      "m -57.11213547520009, b -15.10727393280003, cost 24209.895819923568, iterations 9\n"
     ]
    }
   ],
   "source": [
    "gradient_descent(x, y)"
   ]
  }
 ],
 "metadata": {
  "kernelspec": {
   "display_name": "Python 3 (ipykernel)",
   "language": "python",
   "name": "python3"
  },
  "language_info": {
   "codemirror_mode": {
    "name": "ipython",
    "version": 3
   },
   "file_extension": ".py",
   "mimetype": "text/x-python",
   "name": "python",
   "nbconvert_exporter": "python",
   "pygments_lexer": "ipython3",
   "version": "3.10.12"
  }
 },
 "nbformat": 4,
 "nbformat_minor": 5
}
