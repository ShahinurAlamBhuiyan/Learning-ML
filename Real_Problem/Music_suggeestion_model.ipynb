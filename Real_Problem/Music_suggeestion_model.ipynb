{
 "cells": [
  {
   "cell_type": "code",
   "execution_count": 24,
   "id": "6a40d812",
   "metadata": {},
   "outputs": [
    {
     "data": {
      "text/plain": [
       "1.0"
      ]
     },
     "execution_count": 24,
     "metadata": {},
     "output_type": "execute_result"
    }
   ],
   "source": [
    "import pandas as pd\n",
    "from sklearn.tree import DecisionTreeClassifier \n",
    "from sklearn.model_selection import train_test_split\n",
    "from sklearn.metrics import accuracy_score\n",
    "\n",
    "music_data = pd.read_csv(\"music.csv\")\n",
    "\n",
    "# Spliting data\n",
    "X = music_data.drop(columns=['genre']) # deleting columns into input\n",
    "y = music_data['genre'] # putting deleted columns into output\n",
    "\n",
    "\n",
    "# Measuring accuracy of the model\n",
    "# 70-80% for training, 30-20% for testing\n",
    "X_train, X_test, y_train, y_test= train_test_split(X, y, test_size=0.2)\n",
    "\n",
    "\n",
    "# Creating Model with decision tree\n",
    "model = DecisionTreeClassifier()\n",
    "\n",
    "# Train the model\n",
    "# model.fit(X, y)\n",
    "model.fit(X_train, y_train)\n",
    "\n",
    "# Making prediction\n",
    "# predictions = model.predict([ [21, 1], [22, 0] ])\n",
    "predictions = model.predict(X_test)\n",
    "\n",
    "# accuracy\n",
    "score = accuracy_score(y_test, predictions)\n",
    "score\n"
   ]
  }
 ],
 "metadata": {
  "kernelspec": {
   "display_name": "Python 3 (ipykernel)",
   "language": "python",
   "name": "python3"
  },
  "language_info": {
   "codemirror_mode": {
    "name": "ipython",
    "version": 3
   },
   "file_extension": ".py",
   "mimetype": "text/x-python",
   "name": "python",
   "nbconvert_exporter": "python",
   "pygments_lexer": "ipython3",
   "version": "3.11.5"
  }
 },
 "nbformat": 4,
 "nbformat_minor": 5
}
